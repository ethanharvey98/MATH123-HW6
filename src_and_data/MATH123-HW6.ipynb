{
 "cells": [
  {
   "cell_type": "markdown",
   "id": "a2a687de",
   "metadata": {},
   "source": [
    "# MATH123-HW6\n",
    "Ethan Harvey"
   ]
  },
  {
   "cell_type": "code",
   "execution_count": 1,
   "id": "e0a4acbe",
   "metadata": {},
   "outputs": [],
   "source": [
    "import numpy as np\n",
    "import pandas as pd\n",
    "\n",
    "from scipy.optimize import minimize\n",
    "from sklearn.model_selection import train_test_split\n",
    "from sklearn.preprocessing import StandardScaler\n",
    "from sklearn.linear_model import LogisticRegression\n",
    "from sklearn.model_selection import GridSearchCV\n",
    "from sklearn.metrics import confusion_matrix\n",
    "\n",
    "\n",
    "import matplotlib\n",
    "import matplotlib.pyplot as plt\n",
    "import seaborn as sns\n",
    "\n",
    "import warnings\n",
    "warnings.filterwarnings('ignore')"
   ]
  },
  {
   "cell_type": "markdown",
   "id": "3e0af6ab",
   "metadata": {},
   "source": [
    "### Question 1\n",
    "(a)\n",
    "\n",
    "$f(x) = (Ax-b)W^{T}W(Ax-b) = A^{T}x^{T}W^{T}WAx-2A^{T}x^{T}W^{T}Wb+b^{T}W^{T}Wb$\n",
    "\n",
    "Setting the gradient equal to $0$\n",
    "\n",
    "$\\nabla_{x}f(x) = 2A^{T}W^{T}WAx-2A^{T}W^{T}Wb = 0$\n",
    "\n",
    "$2A^{T}W^{T}WAx = 2A^{T}W^{T}Wb$\n",
    "\n",
    "Dividing by $2$ we get\n",
    "\n",
    "$A^{T}W^{T}WAx = A^{T}W^{T}Wb$\n",
    "\n",
    "(b)"
   ]
  },
  {
   "cell_type": "code",
   "execution_count": 2,
   "id": "342d95e8",
   "metadata": {},
   "outputs": [
    {
     "data": {
      "image/png": "[encoded data removed]",
      "text/plain": [
       "<Figure size 432x288 with 1 Axes>"
      ]
     },
     "metadata": {
      "needs_background": "light"
     },
     "output_type": "display_data"
    }
   ],
   "source": [
    "A = np.array([[1,0],[1,1],[1,2]])\n",
    "b = np.array([[0],[1],[1]])\n",
    "W = np.array([[1,0,0],[0,2,0],[0,0,1]])\n",
    "parameters = np.linalg.inv(A.T@W.T@W@A)@A.T@W.T@W@b\n",
    "# calculate slope and axis\n",
    "m = parameters[1][0]\n",
    "c = parameters[0][0]\n",
    "x = A[:,1]\n",
    "y = b[:,0]\n",
    "# plot \n",
    "plt.plot(x[0], y[0], \"ro\", label=\"0s\", markersize=10)\n",
    "plt.plot(x[1:len(x)], y[1:len(y)], \"go\", label=\"1s\", markersize=10)\n",
    "plt.plot(np.array([-1,0,1,2]), m*np.array([-1,0,1,2])+c, \"-b\", label=\"least-squares fit\")\n",
    "plt.legend()\n",
    "plt.xlabel(\"$x_{2}$\")\n",
    "plt.ylabel(\"$y$\")\n",
    "plt.show()"
   ]
  },
  {
   "cell_type": "markdown",
   "id": "0a1730d9",
   "metadata": {},
   "source": [
    "### Question 2\n",
    "\n",
    "(a) As $C$ approaches infinity, having any non-zero slack variable would have infinite penalty and so all slack variables are set to 0 (we have a hard-margin SVM).\n",
    "\n",
    "(b) For very small $C$, our margin is large (we have a soft-margin SVM). This means the road that divides our data is wide. It is easy for a model with a soft-margin to underfit the training data.\n",
    "\n",
    "(c) For very large $C$, our margin is small (we have a hard-margin SVM). This means the road that divides our data is narrow. It is easy for a model with a hard-margin to overfit the training data.\n",
    "\n",
    "### Question 3"
   ]
  },
  {
   "cell_type": "markdown",
   "id": "db1e3056",
   "metadata": {},
   "source": [
    "(a)\n",
    "\n",
    "#### Define Lagrangian\n",
    "\n",
    "$L(w,b,a) = \\frac{1}{2}w^{T}w - \\sum_{i=1}^{n}a_{i}(y_{i}(w^{T}x_{i}+b)-1)$\n",
    "\n",
    "#### Calculate partial derivatives of Lagrangian\n",
    "\n",
    "$\\frac{\\partial L}{\\partial w} = w - \\sum_{i=1}^{n}a_{i}y_{i}x_{i} = 0$\n",
    "\n",
    "$w = \\sum_{i=1}^{n}a_{i}y_{i}x_{i}$\n",
    "\n",
    "$\\frac{\\partial L}{\\partial b} = \\sum_{i=1}^{n}a_{i}y_{i} = 0$\n",
    "\n",
    "#### Define the dual problem for SVM\n",
    "\n",
    "$\\begin{align*}\n",
    "& \\underset{a}{\\text{maximize}}& & \\sum_{i=1}^{n}a_{i} - \\frac{1}{2}\\sum_{i=1}^{n}\\sum_{j=1}^{n}a_{i}a_{j}y_{i}y_{j}(x_{i}\\cdot x_{j}) \\\\\n",
    "& \\text{subject to}& & a_{i} \\ge 0, i=1,\\ldots, n \\\\\n",
    "& & & \\sum_{i=1}^{n}a_{i}y_{i} = 0\n",
    "\\end{align*}$\n",
    "\n",
    "#### Solve dual problem to find Lagrange multipliers"
   ]
  },
  {
   "cell_type": "code",
   "execution_count": 3,
   "id": "ad7d0ed9",
   "metadata": {},
   "outputs": [
    {
     "name": "stdout",
     "output_type": "stream",
     "text": [
      "a = [ 4.99999991e-01  4.99999978e-01  9.99999969e-01 -9.58434720e-16]\n",
      "w = [ 0.99999998 -0.99999996]\n",
      "b = -1.0000000087484766\n"
     ]
    }
   ],
   "source": [
    "X_train = np.array([[0,0],[2,2],[2,0],[3,0]])\n",
    "y_train = np.array([[-1],[-1],[1],[1]])\n",
    "\n",
    "def g(X, y, a):\n",
    "    Xy = X*y\n",
    "    return np.sum(a) - (0.5 * a.T @ (a.T @ (Xy @ Xy.T)))\n",
    "\n",
    "constraints = ({'type': 'ineq', 'fun': lambda a: a},\n",
    "               {'type': 'eq', 'fun': lambda a: np.dot(a, y_train)})\n",
    "\n",
    "# use scipy to solve dual problem to find Lagrange multipliers\n",
    "n_samples, n_features = X_train.shape\n",
    "a0 = np.zeros(n_samples)\n",
    "res = minimize(lambda a: -g(X_train, y_train, a), a0, constraints=constraints)\n",
    "a = np.array(res.x)\n",
    "\n",
    "# substitute into dual problem to find weights\n",
    "w = np.zeros(X_train.shape[1])\n",
    "for i in range(len(a)):\n",
    "    if a[i] > 1e-8:\n",
    "        w += (a[i] * y_train[i] * X_train[i])\n",
    "        \n",
    "# substitute into a support vector to find bias\n",
    "y_train = np.reshape(y_train, n_samples) \n",
    "b = -0.5*(max(np.inner(w, X_train[y_train==-1]))+min(np.inner(w, X_train[y_train==1])))\n",
    "\n",
    "print(\"a =\", a)\n",
    "print(\"w =\", w)\n",
    "print(\"b =\", b)"
   ]
  },
  {
   "cell_type": "markdown",
   "id": "3936b470",
   "metadata": {},
   "source": [
    "(b) \n",
    "\n",
    "The explicit form for the classifier function is\n",
    "\n",
    "$\\hat{y} = sign(xw^{*}+b^{*})$\n",
    "\n",
    "where $w = [ 0.99999998 -0.99999996]$ and $b = -1.0000000087484766$."
   ]
  },
  {
   "cell_type": "markdown",
   "id": "6f23789d",
   "metadata": {},
   "source": [
    "(c)"
   ]
  },
  {
   "cell_type": "code",
   "execution_count": 4,
   "id": "67908a1d",
   "metadata": {},
   "outputs": [
    {
     "name": "stdout",
     "output_type": "stream",
     "text": [
      "[ 1. -1.]\n"
     ]
    }
   ],
   "source": [
    "X_test = np.array([[6,2],[1,1]])\n",
    "print(np.where(X_test@w + b >= 0, 1.0, -1.0))"
   ]
  },
  {
   "cell_type": "markdown",
   "id": "8720ae97",
   "metadata": {},
   "source": [
    "(d)"
   ]
  },
  {
   "cell_type": "code",
   "execution_count": 5,
   "id": "635f4231",
   "metadata": {},
   "outputs": [
    {
     "name": "stdout",
     "output_type": "stream",
     "text": [
      "1.4142136060485608\n"
     ]
    }
   ],
   "source": [
    "print(2/np.linalg.norm(w))"
   ]
  },
  {
   "cell_type": "markdown",
   "id": "b974939d",
   "metadata": {},
   "source": [
    "(e) \n",
    "\n",
    "The equations for the support vectors are\n",
    "\n",
    "$y = 0.4151159815191299+(0.99999998\\times x_{1})-(0.99999996\\times x_{2})$\n",
    "$y = -2.4151159990160833+(0.99999998\\times x_{1})-(0.99999996\\times x_{2})$\n"
   ]
  },
  {
   "cell_type": "markdown",
   "id": "84846667",
   "metadata": {},
   "source": [
    "### Question 4"
   ]
  },
  {
   "cell_type": "code",
   "execution_count": 6,
   "id": "a2d48261",
   "metadata": {},
   "outputs": [
    {
     "data": {
      "text/html": [
       "<div>\n",
       "<style scoped>\n",
       "    .dataframe tbody tr th:only-of-type {\n",
       "        vertical-align: middle;\n",
       "    }\n",
       "\n",
       "    .dataframe tbody tr th {\n",
       "        vertical-align: top;\n",
       "    }\n",
       "\n",
       "    .dataframe thead th {\n",
       "        text-align: right;\n",
       "    }\n",
       "</style>\n",
       "<table border=\"1\" class=\"dataframe\">\n",
       "  <thead>\n",
       "    <tr style=\"text-align: right;\">\n",
       "      <th></th>\n",
       "      <th>age</th>\n",
       "      <th>sex</th>\n",
       "      <th>cp</th>\n",
       "      <th>trtbps</th>\n",
       "      <th>chol</th>\n",
       "      <th>fbs</th>\n",
       "      <th>restecg</th>\n",
       "      <th>thalachh</th>\n",
       "      <th>exng</th>\n",
       "      <th>oldpeak</th>\n",
       "      <th>slp</th>\n",
       "      <th>caa</th>\n",
       "      <th>thall</th>\n",
       "      <th>output</th>\n",
       "    </tr>\n",
       "  </thead>\n",
       "  <tbody>\n",
       "    <tr>\n",
       "      <th>0</th>\n",
       "      <td>63</td>\n",
       "      <td>1</td>\n",
       "      <td>3</td>\n",
       "      <td>145</td>\n",
       "      <td>233</td>\n",
       "      <td>1</td>\n",
       "      <td>0</td>\n",
       "      <td>150</td>\n",
       "      <td>0</td>\n",
       "      <td>2.3</td>\n",
       "      <td>0</td>\n",
       "      <td>0</td>\n",
       "      <td>1</td>\n",
       "      <td>1</td>\n",
       "    </tr>\n",
       "    <tr>\n",
       "      <th>1</th>\n",
       "      <td>37</td>\n",
       "      <td>1</td>\n",
       "      <td>2</td>\n",
       "      <td>130</td>\n",
       "      <td>250</td>\n",
       "      <td>0</td>\n",
       "      <td>1</td>\n",
       "      <td>187</td>\n",
       "      <td>0</td>\n",
       "      <td>3.5</td>\n",
       "      <td>0</td>\n",
       "      <td>0</td>\n",
       "      <td>2</td>\n",
       "      <td>1</td>\n",
       "    </tr>\n",
       "    <tr>\n",
       "      <th>2</th>\n",
       "      <td>41</td>\n",
       "      <td>0</td>\n",
       "      <td>1</td>\n",
       "      <td>130</td>\n",
       "      <td>204</td>\n",
       "      <td>0</td>\n",
       "      <td>0</td>\n",
       "      <td>172</td>\n",
       "      <td>0</td>\n",
       "      <td>1.4</td>\n",
       "      <td>2</td>\n",
       "      <td>0</td>\n",
       "      <td>2</td>\n",
       "      <td>1</td>\n",
       "    </tr>\n",
       "    <tr>\n",
       "      <th>3</th>\n",
       "      <td>56</td>\n",
       "      <td>1</td>\n",
       "      <td>1</td>\n",
       "      <td>120</td>\n",
       "      <td>236</td>\n",
       "      <td>0</td>\n",
       "      <td>1</td>\n",
       "      <td>178</td>\n",
       "      <td>0</td>\n",
       "      <td>0.8</td>\n",
       "      <td>2</td>\n",
       "      <td>0</td>\n",
       "      <td>2</td>\n",
       "      <td>1</td>\n",
       "    </tr>\n",
       "    <tr>\n",
       "      <th>4</th>\n",
       "      <td>57</td>\n",
       "      <td>0</td>\n",
       "      <td>0</td>\n",
       "      <td>120</td>\n",
       "      <td>354</td>\n",
       "      <td>0</td>\n",
       "      <td>1</td>\n",
       "      <td>163</td>\n",
       "      <td>1</td>\n",
       "      <td>0.6</td>\n",
       "      <td>2</td>\n",
       "      <td>0</td>\n",
       "      <td>2</td>\n",
       "      <td>1</td>\n",
       "    </tr>\n",
       "  </tbody>\n",
       "</table>\n",
       "</div>"
      ],
      "text/plain": [
       "   age  sex  cp  trtbps  chol  fbs  restecg  thalachh  exng  oldpeak  slp  \\\n",
       "0   63    1   3     145   233    1        0       150     0      2.3    0   \n",
       "1   37    1   2     130   250    0        1       187     0      3.5    0   \n",
       "2   41    0   1     130   204    0        0       172     0      1.4    2   \n",
       "3   56    1   1     120   236    0        1       178     0      0.8    2   \n",
       "4   57    0   0     120   354    0        1       163     1      0.6    2   \n",
       "\n",
       "   caa  thall  output  \n",
       "0    0      1       1  \n",
       "1    0      2       1  \n",
       "2    0      2       1  \n",
       "3    0      2       1  \n",
       "4    0      2       1  "
      ]
     },
     "execution_count": 6,
     "metadata": {},
     "output_type": "execute_result"
    }
   ],
   "source": [
    "data = pd.read_csv(\"data/heart.csv\")\n",
    "data.head()"
   ]
  },
  {
   "cell_type": "code",
   "execution_count": 7,
   "id": "29025fa4",
   "metadata": {},
   "outputs": [
    {
     "name": "stdout",
     "output_type": "stream",
     "text": [
      "Best parameters found:\n",
      " {'C': 0.006734150657750821, 'penalty': 'l2'}\n"
     ]
    }
   ],
   "source": [
    "X = data.drop(columns=[\"output\"])\n",
    "# one hot encode cp, slp, thall\n",
    "for feature in [\"cp\",\"restecg\",\"slp\",\"thall\"]:\n",
    "    one_hot = pd.get_dummies(X[feature],prefix=feature+\"_\")\n",
    "    X = X.drop(columns=[feature], axis = 1)\n",
    "    X = X.join(one_hot)\n",
    "y = data[\"output\"]\n",
    "X_train, X_test, y_train, y_test = train_test_split(X, y, test_size=0.3)\n",
    "scaler = StandardScaler()\n",
    "X_train = scaler.fit_transform(X_train)\n",
    "X_test = scaler.transform(X_test)\n",
    "try_params = {\n",
    "    \"C\": np.logspace(-5, 5, base=10, num=100),\n",
    "    \"penalty\": [\"l1\",\"l2\"]\n",
    "}\n",
    "clf = LogisticRegression()\n",
    "gscv = GridSearchCV(clf, try_params, cv=5, n_jobs=-1)\n",
    "gscv.fit(X_train, y_train)\n",
    "print(\"Best parameters found:\\n\", gscv.best_params_)"
   ]
  },
  {
   "cell_type": "code",
   "execution_count": 8,
   "id": "cc8f1903",
   "metadata": {},
   "outputs": [
    {
     "name": "stdout",
     "output_type": "stream",
     "text": [
      "Train accuracy: 84.91%\n",
      " Test accuracy: 85.71%\n"
     ]
    }
   ],
   "source": [
    "print(f\"Train accuracy: {gscv.score(X_train, y_train)*100:.2f}%\")\n",
    "print(f\" Test accuracy: {gscv.score(X_test, y_test)*100:.2f}%\")"
   ]
  },
  {
   "cell_type": "code",
   "execution_count": 9,
   "id": "9454921d",
   "metadata": {},
   "outputs": [
    {
     "data": {
      "image/png": "[encoded data removed]",
      "text/plain": [
       "<Figure size 432x288 with 2 Axes>"
      ]
     },
     "metadata": {
      "needs_background": "light"
     },
     "output_type": "display_data"
    }
   ],
   "source": [
    "sns.heatmap(confusion_matrix(y_test, gscv.predict(X_test)), annot=True, linewidths=0.5, cmap='Reds')\n",
    "plt.ylabel('Actual digit')\n",
    "plt.xlabel('Predicted digit')\n",
    "plt.title('Confusion matrix')\n",
    "plt.show()"
   ]
  },
  {
   "cell_type": "markdown",
   "id": "cd6936a0",
   "metadata": {},
   "source": [
    "I chose to predict the `output` column (0 = less chance of heart attack, 1 = more chance of heart attack). After splitting the data into a train and test set, I used `GridSearchCV` to find the best inverse regularization strength and penalty. `GridSearchCV` uses cross validation to find the best specified hyperparameters. I assesed the validity of my model using accuracy and a confusion matrix. Accuracy shows the number of data points my model predicted correctly but the confusion matrix shows the number of false negatives and false positives my model predicted (which I can use to calculate percision and recall)."
   ]
  },
  {
   "cell_type": "code",
   "execution_count": null,
   "id": "83136f26",
   "metadata": {},
   "outputs": [],
   "source": []
  }
 ],
 "metadata": {
  "kernelspec": {
   "display_name": "Python 3",
   "language": "python",
   "name": "python3"
  },
  "language_info": {
   "codemirror_mode": {
    "name": "ipython",
    "version": 3
   },
   "file_extension": ".py",
   "mimetype": "text/x-python",
   "name": "python",
   "nbconvert_exporter": "python",
   "pygments_lexer": "ipython3",
   "version": "3.8.8"
  }
 },
 "nbformat": 4,
 "nbformat_minor": 5
}
